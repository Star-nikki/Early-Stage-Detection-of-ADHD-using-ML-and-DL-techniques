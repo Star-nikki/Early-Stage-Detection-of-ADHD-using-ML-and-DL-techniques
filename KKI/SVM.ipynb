{
 "cells": [
  {
   "cell_type": "code",
   "execution_count": 1,
   "id": "2d20b7e8",
   "metadata": {},
   "outputs": [],
   "source": [
    "import pandas as pd\n",
    "from sklearn.impute import SimpleImputer\n",
    "from sklearn.metrics import accuracy_score\n",
    "from sklearn.preprocessing import LabelEncoder\n",
    "from sklearn.model_selection import train_test_split\n",
    "from sklearn.ensemble import RandomForestClassifier\n",
    "import matplotlib.pyplot as plt \n",
    "import seaborn as sns"
   ]
  },
  {
   "cell_type": "code",
   "execution_count": 2,
   "id": "2237825c",
   "metadata": {},
   "outputs": [],
   "source": [
    "df = pd.read_csv(\"KKI_phenotypic_1.csv\")"
   ]
  },
  {
   "cell_type": "code",
   "execution_count": 3,
   "id": "755cff00",
   "metadata": {},
   "outputs": [
    {
     "data": {
      "text/plain": [
       "ScanDir ID          0\n",
       "Site                0\n",
       "Gender              0\n",
       "Age                 0\n",
       "Handedness          0\n",
       "DX                  0\n",
       "Secondary Dx       68\n",
       "ADHD Measure        0\n",
       "ADHD Index          0\n",
       "Inattentive         0\n",
       "Hyper/Impulsive     0\n",
       "IQ Measure          0\n",
       "Verbal IQ           0\n",
       "Performance IQ      0\n",
       "Full2 IQ           83\n",
       "Full4 IQ            0\n",
       "Med Status          0\n",
       "QC_Rest_1           0\n",
       "QC_Rest_2          83\n",
       "QC_Rest_3          83\n",
       "QC_Rest_4          83\n",
       "QC_Anatomical_1     0\n",
       "QC_Anatomical_2    83\n",
       "dtype: int64"
      ]
     },
     "execution_count": 3,
     "metadata": {},
     "output_type": "execute_result"
    }
   ],
   "source": [
    "df.isnull().sum()"
   ]
  },
  {
   "cell_type": "code",
   "execution_count": 4,
   "id": "7e3fca62",
   "metadata": {},
   "outputs": [],
   "source": [
    "from sklearn.svm import SVC"
   ]
  },
  {
   "cell_type": "code",
   "execution_count": 5,
   "id": "f09ab3af",
   "metadata": {},
   "outputs": [],
   "source": [
    "columns_to_drop = ['Secondary Dx ', 'QC_Rest_2', 'QC_Rest_3', 'QC_Rest_4', 'QC_Anatomical_1', 'QC_Anatomical_2', 'Full4 IQ', 'IQ Measure', 'QC_Rest_1', 'ScanDir ID', 'Site']\n",
    "\n",
    "df = df.drop(columns=columns_to_drop)"
   ]
  },
  {
   "cell_type": "code",
   "execution_count": 6,
   "id": "fe901b6f",
   "metadata": {},
   "outputs": [],
   "source": [
    "df = df.drop(columns=['Full2 IQ'])"
   ]
  },
  {
   "cell_type": "code",
   "execution_count": 7,
   "id": "9a852806",
   "metadata": {},
   "outputs": [],
   "source": [
    "X = df.drop(columns=['DX'])  # Features\n",
    "y = df['DX']  # Target"
   ]
  },
  {
   "cell_type": "code",
   "execution_count": 8,
   "id": "9973fa02",
   "metadata": {},
   "outputs": [],
   "source": [
    "# Split the data into training and testing sets\n",
    "X_train, X_test, y_train, y_test = train_test_split(X, y, test_size=0.2, random_state=42)"
   ]
  },
  {
   "cell_type": "code",
   "execution_count": 9,
   "id": "9561c2d7",
   "metadata": {},
   "outputs": [
    {
     "data": {
      "text/plain": [
       "SVC()"
      ]
     },
     "execution_count": 9,
     "metadata": {},
     "output_type": "execute_result"
    }
   ],
   "source": [
    "# Initialize and train the SVM model\n",
    "svm_classifier = SVC(kernel='rbf', C=1.0)\n",
    "svm_classifier.fit(X_train, y_train)"
   ]
  },
  {
   "cell_type": "code",
   "execution_count": 10,
   "id": "3133a13e",
   "metadata": {},
   "outputs": [],
   "source": [
    "import pickle"
   ]
  },
  {
   "cell_type": "code",
   "execution_count": 11,
   "id": "d366a80f",
   "metadata": {},
   "outputs": [],
   "source": [
    "with open('svm_model.pkl', 'wb') as model_file:\n",
    "    pickle.dump(svm_classifier, model_file)"
   ]
  },
  {
   "cell_type": "code",
   "execution_count": 12,
   "id": "20fee477",
   "metadata": {},
   "outputs": [
    {
     "name": "stdout",
     "output_type": "stream",
     "text": [
      "Accuracy: 94.12%\n"
     ]
    }
   ],
   "source": [
    "# Make predictions on the test set\n",
    "y_pred = svm_classifier.predict(X_test)\n",
    "\n",
    "# Evaluate the model\n",
    "accuracy = accuracy_score(y_test, y_pred)\n",
    "print(f\"Accuracy: {accuracy * 100:.2f}%\")"
   ]
  }
 ],
 "metadata": {
  "kernelspec": {
   "display_name": "Python 3 (ipykernel)",
   "language": "python",
   "name": "python3"
  },
  "language_info": {
   "codemirror_mode": {
    "name": "ipython",
    "version": 3
   },
   "file_extension": ".py",
   "mimetype": "text/x-python",
   "name": "python",
   "nbconvert_exporter": "python",
   "pygments_lexer": "ipython3",
   "version": "3.9.12"
  }
 },
 "nbformat": 4,
 "nbformat_minor": 5
}
